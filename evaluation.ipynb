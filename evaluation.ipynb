{
 "cells": [
  {
   "cell_type": "code",
   "execution_count": 1,
   "metadata": {},
   "outputs": [],
   "source": [
    "import torch\n",
    "import torch.nn as nn\n",
    "import torch.nn.functional as F\n",
    "import numpy as np\n",
    "from transformer_lens import HookedTransformer\n",
    "from interpolated_ffn import ModelWithBilinearLayer, load_layer"
   ]
  },
  {
   "cell_type": "code",
   "execution_count": 2,
   "metadata": {},
   "outputs": [
    {
     "data": {
      "application/vnd.jupyter.widget-view+json": {
       "model_id": "8f3005f3bffa42499b1bb51d387055d2",
       "version_major": 2,
       "version_minor": 0
      },
      "text/plain": [
       "Loading checkpoint shards:   0%|          | 0/3 [00:00<?, ?it/s]"
      ]
     },
     "metadata": {},
     "output_type": "display_data"
    },
    {
     "name": "stdout",
     "output_type": "stream",
     "text": [
      "Loaded pretrained model gemma-2-2b into HookedTransformer\n"
     ]
    },
    {
     "name": "stderr",
     "output_type": "stream",
     "text": [
      "/home/isaiah/code/bilinear/interpolated_ffn.py:78: FutureWarning: You are using `torch.load` with `weights_only=False` (the current default value), which uses the default pickle module implicitly. It is possible to construct malicious pickle data which will execute arbitrary code during unpickling (See https://github.com/pytorch/pytorch/blob/main/SECURITY.md#untrusted-models for more details). In a future release, the default value for `weights_only` will be flipped to `True`. This limits the functions that could be executed during unpickling. Arbitrary objects will no longer be allowed to be loaded via this mode unless they are explicitly allowlisted by the user via `torch.serialization.add_safe_globals`. We recommend you start setting `weights_only=True` for any use case where you don't have full control of the loaded file. Please open an issue on GitHub for any issues related to this experimental feature.\n",
      "  model.ffn.load_state_dict(torch.load(name))\n"
     ]
    }
   ],
   "source": [
    "device = \"cuda\"\n",
    "dtype = torch.bfloat16\n",
    "model_name = \"gemma-2-2b\"\n",
    "model_pretrained = HookedTransformer.from_pretrained_no_processing(model_name, device = device, dtype=dtype)\n",
    "layer = 18\n",
    "\n",
    "# Bilinear layer with original weights \n",
    "model_bilinear = ModelWithBilinearLayer(model_pretrained, layer)\n",
    "\n",
    "# Bilinear layers with different finetuning strategies\n",
    "model_bilinear_logit_mse = ModelWithBilinearLayer(model_pretrained, layer)\n",
    "load_layer(model_bilinear_logit_mse, \"layer-18-step-20000-logit-mse.pt\")\n",
    "model_bilinear_output_mse = ModelWithBilinearLayer(model_pretrained, layer)\n",
    "load_layer(model_bilinear_output_mse, \"layer-18-step-20000-output-mse.pt\")\n",
    "model_bilinear_ce = ModelWithBilinearLayer(model_pretrained, layer)\n",
    "load_layer(model_bilinear_ce, \"layer-18-step-20000-ce.pt\")"
   ]
  },
  {
   "cell_type": "code",
   "execution_count": 3,
   "metadata": {},
   "outputs": [],
   "source": [
    "data = np.memmap('data_train.bin', dtype=np.uint32, mode='r')\n",
    "\n",
    "def sample_batch(size, seq_len):\n",
    "    indices = torch.randint(len(data) - seq_len - 1, (size,))\n",
    "    xs = torch.stack([torch.from_numpy(data[i:i+seq_len].astype(np.int64)) for i in indices])\n",
    "    ys = torch.stack([torch.from_numpy(data[i+1:i+seq_len+1].astype(np.int64)) for i in indices])\n",
    "    return xs.to(device), ys.to(device)"
   ]
  },
  {
   "cell_type": "code",
   "execution_count": 4,
   "metadata": {},
   "outputs": [
    {
     "name": "stdout",
     "output_type": "stream",
     "text": [
      "Pretrained: 3.656546875\n",
      "Bilinear untuned: 3.829\n",
      "Bilinear logit reconstruction: 3.689296875\n",
      "Bilinear layer output reconstruction: 3.733953125\n",
      "Bilinear cross-entropy on next token prediction: 3.1923125\n"
     ]
    }
   ],
   "source": [
    "def eval_model(model):\n",
    "    torch.manual_seed(12345)\n",
    "    seq_len = 1024\n",
    "    batch_size = 2\n",
    "    batches = 500\n",
    "    loss = 0.0\n",
    "    with torch.no_grad():\n",
    "        for i in range(batches):\n",
    "            tokens, next_tokens = sample_batch(batch_size, seq_len)\n",
    "            logits = model(tokens)\n",
    "            loss += F.cross_entropy(logits.view(-1, logits.size(-1)), next_tokens.view(-1)).item()\n",
    "    return loss / batches\n",
    "\n",
    "print(\"Pretrained:\", eval_model(model_pretrained))\n",
    "print(\"Bilinear untuned:\", eval_model(model_bilinear))\n",
    "print(\"Bilinear logit reconstruction:\", eval_model(model_bilinear_logit_mse))\n",
    "print(\"Bilinear layer output reconstruction:\", eval_model(model_bilinear_output_mse))\n",
    "print(\"Bilinear cross-entropy on next token prediction:\", eval_model(model_bilinear_ce))"
   ]
  }
 ],
 "metadata": {
  "kernelspec": {
   "display_name": "aisf",
   "language": "python",
   "name": "python3"
  },
  "language_info": {
   "codemirror_mode": {
    "name": "ipython",
    "version": 3
   },
   "file_extension": ".py",
   "mimetype": "text/x-python",
   "name": "python",
   "nbconvert_exporter": "python",
   "pygments_lexer": "ipython3",
   "version": "3.12.3"
  }
 },
 "nbformat": 4,
 "nbformat_minor": 2
}
